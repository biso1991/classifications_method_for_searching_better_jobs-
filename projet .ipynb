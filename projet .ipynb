{
 "cells": [
  {
   "cell_type": "code",
   "execution_count": null,
   "metadata": {},
   "outputs": [],
   "source": [
    "import requests\n",
    "from bs4 import BeautifulSoup\n",
    "import re\n",
    "import pandas as pd\n",
    "import nltk\n",
    "from sklearn.model_selection import train_test_split\n",
    "from sklearn.feature_extraction.text import TfidfVectorizer\n",
    "import scipy.sparse\n",
    "import matplotlib.pyplot as plt\n",
    "import seaborn as sns\n",
    "from matplotlib.figure import Figure\n",
    "from matplotlib.axes import Axes\n"
   ]
  },
  {
   "cell_type": "code",
   "execution_count": null,
   "metadata": {},
   "outputs": [],
   "source": [
    "# site : keepjob\n",
    "home_page=\"https://www.keejob.com\"\n"
   ]
  },
  {
   "cell_type": "code",
   "execution_count": null,
   "metadata": {},
   "outputs": [],
   "source": [
    "joblinks=[]\n",
    "for i in range(1,5):\n",
    "    # contact page \n",
    "    response=requests.get(f'https://www.keejob.com/offres-emploi/metiers/recrutement-informatique-multimedia/?page={i}')\n",
    "    sp= BeautifulSoup(response.content,'lxml')\n",
    "    joblist=sp.find_all(\"h6\")\n",
    "#     print(joblist)\n",
    "    for item in joblist:\n",
    "        for link in item.find_all('a',href=True):\n",
    "#             print(link)\n",
    "            joblinks.append(home_page+link['href'])\n",
    "#             print(joblinks)\n",
    "# print(joblinks)   \n",
    "# https://www.keejob.com/offres-emploi/145382/data-scientist-hf/"
   ]
  },
  {
   "cell_type": "code",
   "execution_count": null,
   "metadata": {},
   "outputs": [],
   "source": [
    "testlink=\"https://www.keejob.com/offres-emploi/145382/data-scientist-hf/\""
   ]
  },
  {
   "cell_type": "code",
   "execution_count": null,
   "metadata": {},
   "outputs": [],
   "source": [
    "# import nltk\n",
    "# nltk.download('punkt')\n",
    "# nltk.download('stopwords')"
   ]
  },
  {
   "cell_type": "code",
   "execution_count": null,
   "metadata": {
    "scrolled": true
   },
   "outputs": [],
   "source": [
    "jobs=[]\n",
    "for link in joblinks:\n",
    "    reponse=requests.get(link)\n",
    "    sp=BeautifulSoup(reponse.content,\"lxml\")\n",
    "    job_name=sp.find(\"h2\",class_=\"job-title\").text.strip()\n",
    "    ps=sp.find(\"div\", class_=\"text\").text.replace('\\n', '**').split('**')\n",
    "    posted_on=ps[6]\n",
    "    \n",
    "    \n",
    "    wk=[sp.find(\"div\", class_=\"text\").text.replace('\\t', '').replace('\\n','').replace(\":\",\"loc: \").strip()]\n",
    "    place=[]\n",
    "    for l in wk:\n",
    "        place.append(re.findall(\"loc: \\W+\\w+\\W+\\w+\",l,re.MULTILINE))\n",
    "        \n",
    "#     print(place)\n",
    "#     Workplace= ' '.join(map(str, place))\n",
    "    for j in place:\n",
    "        for t in j:\n",
    "            workplace=t\n",
    "    \n",
    "            workplace.replace(\" \",\"\")\n",
    "#     print(workplace)\n",
    "    ########################################################################\n",
    "    st=[sp.find(\"div\", class_=\"text\").text.replace('\\nBac','Bac').strip()]\n",
    "    std=[]\n",
    "    for i in st:\n",
    "        std.append(re.findall(\"\\w\",i,re.MULTILINE))\n",
    "    \n",
    "    Study= ' '.join(map(str, std))\n",
    "    #     print(Study)\n",
    "    ########################################################################\n",
    "    \n",
    "    lg=[sp.find(\"div\", class_=\"text\").text.replace(\"\\t\",\"\").replace(\"Langues:\\n\\n\\n\",\"-\").replace(\"\\n,\\n\\n\",\",\")\n",
    "       .replace(\"\\n\",\"-\")]   \n",
    "#     print(lg)\n",
    "    LG=[]\n",
    "    for i in lg:\n",
    "        LG.append(re.findall(\"-[A-Za-z]+.?\\w+,\\w+-\",i,re.MULTILINE))\n",
    "#     print(LG)\n",
    "    \n",
    "#     Languages=st[33:34]+st[35:36]\n",
    "    \n",
    "    \n",
    "    Languages= ' '.join(map(str, LG))\n",
    "#     print(Languages)\n",
    "    \n",
    "    #################################################################################\n",
    "    cmp=sp.find(\"div\", class_=\"span9 content\").text.replace('\\n', '**').strip().split('**')\n",
    "    # print(cmp)\n",
    "    Company_name=cmp[2]\n",
    "    Company_name= ' '.join(map(str, Company_name))\n",
    "    # print(Company_name)\n",
    "    Job_description=sp.find(\"div\", class_=\"block_a span12 no-margin-left\").text.replace('Imprimer','').replace('\\t','').replace('«\\xa0','').replace('-\\xa0',' ').replace('\\xa0','').replace('\\n',' ').replace('\\r',' ').split('**')\n",
    "    Job_description = ' '.join(map(str, Job_description))\n",
    "    sentence = nltk.sent_tokenize(Job_description)\n",
    "\n",
    "    # print(sentence)\n",
    "    # link_img=[]\n",
    "    # img_cmp=sp.find_all('img')\n",
    "    # link_img=[]\n",
    "    # for image in img_cmp:\n",
    "\n",
    "    #     link_img=image['src']\n",
    "    # #     print(link_img)\n",
    "\n",
    "    # #     print(link_img)\n",
    "    # print(link_img)            \n",
    "\n",
    "\n",
    "\n",
    "#     # print(name,\"\\n\",posted_on,\"\\n\",Workplace,\"\\n\",Study,\"\\n\",Languages,\"\\n\",Company_name,\"\\n\",Job_description)\n",
    "    job={\n",
    "         'job_name':job_name,\n",
    "         'posted_on':posted_on,\n",
    "         'workplace':workplace,\n",
    "        'Study':Study,\n",
    "         'Languages':Languages,\n",
    "         'Company_name':Company_name,\n",
    "         'Job_description':Job_description\n",
    "    }\n",
    "#     print(job)\n",
    " \n",
    "    jobs.append(job)\n",
    "    # print('saving job: ',jobs)\n",
    "\n",
    "\n",
    "\n",
    "\n",
    "\n"
   ]
  },
  {
   "cell_type": "code",
   "execution_count": null,
   "metadata": {},
   "outputs": [],
   "source": [
    "# formatted_article_text = re.sub('[^a-zA-Z]', ' ', sentence )\n",
    "# formatted_article_text = re.sub(r'\\s+', ' ', formatted_article_text)\n",
    "# stopwords = nltk.corpus.stopwords.words('french')\n",
    "\n",
    "# word_frequencies = {}\n",
    "# for word in nltk.word_tokenize(formatted_article_text):\n",
    "#     if word not in stopwords:\n",
    "#         if word not in word_frequencies.keys():\n",
    "#             word_frequencies[word] = 1\n",
    "#         else:\n",
    "#             word_frequencies[word] += 1\n"
   ]
  },
  {
   "cell_type": "code",
   "execution_count": null,
   "metadata": {},
   "outputs": [],
   "source": [
    "df = pd.DataFrame(jobs )\n",
    "df.head()\n"
   ]
  },
  {
   "cell_type": "code",
   "execution_count": 41,
   "metadata": {},
   "outputs": [],
   "source": [
    "df =pd.read_csv('jobs.csv')"
   ]
  },
  {
   "cell_type": "code",
   "execution_count": 43,
   "metadata": {},
   "outputs": [],
   "source": [
    "df.to_csv('jobs.csv', index=False,header=None)\n",
    "# "
   ]
  },
  {
   "cell_type": "code",
   "execution_count": 44,
   "metadata": {},
   "outputs": [
    {
     "data": {
      "text/plain": [
       "(60, 7)"
      ]
     },
     "execution_count": 44,
     "metadata": {},
     "output_type": "execute_result"
    }
   ],
   "source": [
    "df.shape"
   ]
  },
  {
   "cell_type": "code",
   "execution_count": 45,
   "metadata": {},
   "outputs": [
    {
     "data": {
      "text/html": [
       "<div>\n",
       "<style scoped>\n",
       "    .dataframe tbody tr th:only-of-type {\n",
       "        vertical-align: middle;\n",
       "    }\n",
       "\n",
       "    .dataframe tbody tr th {\n",
       "        vertical-align: top;\n",
       "    }\n",
       "\n",
       "    .dataframe thead th {\n",
       "        text-align: right;\n",
       "    }\n",
       "</style>\n",
       "<table border=\"1\" class=\"dataframe\">\n",
       "  <thead>\n",
       "    <tr style=\"text-align: right;\">\n",
       "      <th></th>\n",
       "      <th>Target</th>\n",
       "      <th>posted_on</th>\n",
       "      <th>workplace</th>\n",
       "      <th>Study</th>\n",
       "      <th>Languages</th>\n",
       "      <th>Company_name</th>\n",
       "      <th>Text</th>\n",
       "    </tr>\n",
       "  </thead>\n",
       "  <tbody>\n",
       "    <tr>\n",
       "      <th>0</th>\n",
       "      <td>Développeur web</td>\n",
       "      <td>8 novembre 2023</td>\n",
       "      <td>loc:             Ezzahra,                     ...</td>\n",
       "      <td>['D', 'é', 't', 'a', 'i', 'l', 's', 'd', 'e', ...</td>\n",
       "      <td>[]</td>\n",
       "      <td>NaN</td>\n",
       "      <td>Description de l'annonce:  Nous sommes à la r...</td>\n",
       "    </tr>\n",
       "    <tr>\n",
       "      <th>1</th>\n",
       "      <td>WEB DESIGNER</td>\n",
       "      <td>8 novembre 2023</td>\n",
       "      <td>loc:                     La Manouba</td>\n",
       "      <td>['D', 'é', 't', 'a', 'i', 'l', 's', 'd', 'e', ...</td>\n",
       "      <td>['-Arabe,Français,Anglais-']</td>\n",
       "      <td>NaN</td>\n",
       "      <td>Description de l'annonce:  Société nouvelleme...</td>\n",
       "    </tr>\n",
       "    <tr>\n",
       "      <th>2</th>\n",
       "      <td>Designer graphique</td>\n",
       "      <td>8 novembre 2023</td>\n",
       "      <td>loc:                     Tunis,               ...</td>\n",
       "      <td>['D', 'é', 't', 'a', 'i', 'l', 's', 'd', 'e', ...</td>\n",
       "      <td>['-Français,Anglais-']</td>\n",
       "      <td>P A R T N E R   R E C R U I T M E N T</td>\n",
       "      <td>Description de l'annonce: Nous recrutons pour...</td>\n",
       "    </tr>\n",
       "    <tr>\n",
       "      <th>3</th>\n",
       "      <td>Responsable Infra Systèmes et Réseaux</td>\n",
       "      <td>8 novembre 2023</td>\n",
       "      <td>loc:                     Tunis,               ...</td>\n",
       "      <td>['D', 'é', 't', 'a', 'i', 'l', 's', 'd', 'e', ...</td>\n",
       "      <td>[]</td>\n",
       "      <td>S P B   I S C</td>\n",
       "      <td>Description de l'annonce: Vous  souhaitez int...</td>\n",
       "    </tr>\n",
       "    <tr>\n",
       "      <th>4</th>\n",
       "      <td>Développeur Medior .Net/C#</td>\n",
       "      <td>8 novembre 2023</td>\n",
       "      <td>loc:                     Tunis,               ...</td>\n",
       "      <td>['D', 'é', 't', 'a', 'i', 'l', 's', 'd', 'e', ...</td>\n",
       "      <td>[]</td>\n",
       "      <td>B I N I T N S</td>\n",
       "      <td>Description de l'annonce: Binit Nearshore Ser...</td>\n",
       "    </tr>\n",
       "  </tbody>\n",
       "</table>\n",
       "</div>"
      ],
      "text/plain": [
       "                                  Target        posted_on  \\\n",
       "0                        Développeur web  8 novembre 2023   \n",
       "1                           WEB DESIGNER  8 novembre 2023   \n",
       "2                     Designer graphique  8 novembre 2023   \n",
       "3  Responsable Infra Systèmes et Réseaux  8 novembre 2023   \n",
       "4             Développeur Medior .Net/C#  8 novembre 2023   \n",
       "\n",
       "                                           workplace  \\\n",
       "0  loc:             Ezzahra,                     ...   \n",
       "1                loc:                     La Manouba   \n",
       "2  loc:                     Tunis,               ...   \n",
       "3  loc:                     Tunis,               ...   \n",
       "4  loc:                     Tunis,               ...   \n",
       "\n",
       "                                               Study  \\\n",
       "0  ['D', 'é', 't', 'a', 'i', 'l', 's', 'd', 'e', ...   \n",
       "1  ['D', 'é', 't', 'a', 'i', 'l', 's', 'd', 'e', ...   \n",
       "2  ['D', 'é', 't', 'a', 'i', 'l', 's', 'd', 'e', ...   \n",
       "3  ['D', 'é', 't', 'a', 'i', 'l', 's', 'd', 'e', ...   \n",
       "4  ['D', 'é', 't', 'a', 'i', 'l', 's', 'd', 'e', ...   \n",
       "\n",
       "                      Languages                           Company_name  \\\n",
       "0                            []                                    NaN   \n",
       "1  ['-Arabe,Français,Anglais-']                                    NaN   \n",
       "2        ['-Français,Anglais-']  P A R T N E R   R E C R U I T M E N T   \n",
       "3                            []                          S P B   I S C   \n",
       "4                            []                          B I N I T N S   \n",
       "\n",
       "                                                Text  \n",
       "0   Description de l'annonce:  Nous sommes à la r...  \n",
       "1   Description de l'annonce:  Société nouvelleme...  \n",
       "2   Description de l'annonce: Nous recrutons pour...  \n",
       "3   Description de l'annonce: Vous  souhaitez int...  \n",
       "4   Description de l'annonce: Binit Nearshore Ser...  "
      ]
     },
     "execution_count": 45,
     "metadata": {},
     "output_type": "execute_result"
    }
   ],
   "source": [
    "df.rename(columns = {'job_name':'Target','Job_description':'Text' }, inplace = True)\n",
    "df.head()"
   ]
  },
  {
   "cell_type": "code",
   "execution_count": 46,
   "metadata": {},
   "outputs": [],
   "source": [
    "df.to_csv('jobs.csv', index=False)\n",
    "data = df\n"
   ]
  },
  {
   "cell_type": "code",
   "execution_count": 47,
   "metadata": {},
   "outputs": [
    {
     "data": {
      "text/html": [
       "<div>\n",
       "<style scoped>\n",
       "    .dataframe tbody tr th:only-of-type {\n",
       "        vertical-align: middle;\n",
       "    }\n",
       "\n",
       "    .dataframe tbody tr th {\n",
       "        vertical-align: top;\n",
       "    }\n",
       "\n",
       "    .dataframe thead th {\n",
       "        text-align: right;\n",
       "    }\n",
       "</style>\n",
       "<table border=\"1\" class=\"dataframe\">\n",
       "  <thead>\n",
       "    <tr style=\"text-align: right;\">\n",
       "      <th></th>\n",
       "      <th>Target</th>\n",
       "      <th>posted_on</th>\n",
       "      <th>workplace</th>\n",
       "      <th>Study</th>\n",
       "      <th>Languages</th>\n",
       "      <th>Company_name</th>\n",
       "      <th>Text</th>\n",
       "    </tr>\n",
       "  </thead>\n",
       "  <tbody>\n",
       "    <tr>\n",
       "      <th>0</th>\n",
       "      <td>Développeur web</td>\n",
       "      <td>8 novembre 2023</td>\n",
       "      <td>loc:             Ezzahra,                     ...</td>\n",
       "      <td>['D', 'é', 't', 'a', 'i', 'l', 's', 'd', 'e', ...</td>\n",
       "      <td>[]</td>\n",
       "      <td>NaN</td>\n",
       "      <td>Description de l'annonce:  Nous sommes à la r...</td>\n",
       "    </tr>\n",
       "    <tr>\n",
       "      <th>1</th>\n",
       "      <td>WEB DESIGNER</td>\n",
       "      <td>8 novembre 2023</td>\n",
       "      <td>loc:                     La Manouba</td>\n",
       "      <td>['D', 'é', 't', 'a', 'i', 'l', 's', 'd', 'e', ...</td>\n",
       "      <td>['-Arabe,Français,Anglais-']</td>\n",
       "      <td>NaN</td>\n",
       "      <td>Description de l'annonce:  Société nouvelleme...</td>\n",
       "    </tr>\n",
       "    <tr>\n",
       "      <th>2</th>\n",
       "      <td>Designer graphique</td>\n",
       "      <td>8 novembre 2023</td>\n",
       "      <td>loc:                     Tunis,               ...</td>\n",
       "      <td>['D', 'é', 't', 'a', 'i', 'l', 's', 'd', 'e', ...</td>\n",
       "      <td>['-Français,Anglais-']</td>\n",
       "      <td>P A R T N E R   R E C R U I T M E N T</td>\n",
       "      <td>Description de l'annonce: Nous recrutons pour...</td>\n",
       "    </tr>\n",
       "    <tr>\n",
       "      <th>3</th>\n",
       "      <td>Responsable Infra Systèmes et Réseaux</td>\n",
       "      <td>8 novembre 2023</td>\n",
       "      <td>loc:                     Tunis,               ...</td>\n",
       "      <td>['D', 'é', 't', 'a', 'i', 'l', 's', 'd', 'e', ...</td>\n",
       "      <td>[]</td>\n",
       "      <td>S P B   I S C</td>\n",
       "      <td>Description de l'annonce: Vous  souhaitez int...</td>\n",
       "    </tr>\n",
       "    <tr>\n",
       "      <th>4</th>\n",
       "      <td>Développeur Medior .Net/C#</td>\n",
       "      <td>8 novembre 2023</td>\n",
       "      <td>loc:                     Tunis,               ...</td>\n",
       "      <td>['D', 'é', 't', 'a', 'i', 'l', 's', 'd', 'e', ...</td>\n",
       "      <td>[]</td>\n",
       "      <td>B I N I T N S</td>\n",
       "      <td>Description de l'annonce: Binit Nearshore Ser...</td>\n",
       "    </tr>\n",
       "  </tbody>\n",
       "</table>\n",
       "</div>"
      ],
      "text/plain": [
       "                                  Target        posted_on  \\\n",
       "0                        Développeur web  8 novembre 2023   \n",
       "1                           WEB DESIGNER  8 novembre 2023   \n",
       "2                     Designer graphique  8 novembre 2023   \n",
       "3  Responsable Infra Systèmes et Réseaux  8 novembre 2023   \n",
       "4             Développeur Medior .Net/C#  8 novembre 2023   \n",
       "\n",
       "                                           workplace  \\\n",
       "0  loc:             Ezzahra,                     ...   \n",
       "1                loc:                     La Manouba   \n",
       "2  loc:                     Tunis,               ...   \n",
       "3  loc:                     Tunis,               ...   \n",
       "4  loc:                     Tunis,               ...   \n",
       "\n",
       "                                               Study  \\\n",
       "0  ['D', 'é', 't', 'a', 'i', 'l', 's', 'd', 'e', ...   \n",
       "1  ['D', 'é', 't', 'a', 'i', 'l', 's', 'd', 'e', ...   \n",
       "2  ['D', 'é', 't', 'a', 'i', 'l', 's', 'd', 'e', ...   \n",
       "3  ['D', 'é', 't', 'a', 'i', 'l', 's', 'd', 'e', ...   \n",
       "4  ['D', 'é', 't', 'a', 'i', 'l', 's', 'd', 'e', ...   \n",
       "\n",
       "                      Languages                           Company_name  \\\n",
       "0                            []                                    NaN   \n",
       "1  ['-Arabe,Français,Anglais-']                                    NaN   \n",
       "2        ['-Français,Anglais-']  P A R T N E R   R E C R U I T M E N T   \n",
       "3                            []                          S P B   I S C   \n",
       "4                            []                          B I N I T N S   \n",
       "\n",
       "                                                Text  \n",
       "0   Description de l'annonce:  Nous sommes à la r...  \n",
       "1   Description de l'annonce:  Société nouvelleme...  \n",
       "2   Description de l'annonce: Nous recrutons pour...  \n",
       "3   Description de l'annonce: Vous  souhaitez int...  \n",
       "4   Description de l'annonce: Binit Nearshore Ser...  "
      ]
     },
     "execution_count": 47,
     "metadata": {},
     "output_type": "execute_result"
    }
   ],
   "source": [
    "data.head()"
   ]
  },
  {
   "cell_type": "code",
   "execution_count": 77,
   "metadata": {},
   "outputs": [
    {
     "data": {
      "text/plain": [
       "0     Description de l'annonce:  Nous sommes à la r...\n",
       "Name: Text, dtype: object"
      ]
     },
     "execution_count": 77,
     "metadata": {},
     "output_type": "execute_result"
    }
   ],
   "source": [
    "data_txt = data['Text']\n",
    "data_txt"
   ]
  },
  {
   "cell_type": "code",
   "execution_count": 48,
   "metadata": {},
   "outputs": [
    {
     "data": {
      "text/plain": [
       "array(['Développeur web', 'WEB DESIGNER', 'Designer graphique',\n",
       "       'Responsable Infra Systèmes et Réseaux',\n",
       "       'Développeur Medior .Net/C#', 'Android Developer',\n",
       "       'Développeur Medior Microsoft Dynamics 365 CRM',\n",
       "       'Développeur web (php/javascript)',\n",
       "       \"Responsable Système d'Information\", 'Chef de projet',\n",
       "       'Master en finance', 'Consultants SAP', 'Technicien informatique',\n",
       "       'Webmaster', 'Stage Web Développement',\n",
       "       'Service Desk Analyst H/F (langue Allemande)',\n",
       "       'Service Desk Analyst H/F (langue Italienne)',\n",
       "       'Service Desk Analyst / langue Espagnol',\n",
       "       'TECHNICIEN SUPPORT LINUX N2 - 24/7 H/F',\n",
       "       'UI/Web Developer Senior', 'Service Desk analyst H/F',\n",
       "       'Senior QA Engineer', 'INGENIEURS SYSTEME ET RESEAU',\n",
       "       'Graphic Designer / community manager', 'Graphiste',\n",
       "       'technicien informatique',\n",
       "       'Administrateur poste de Travail / L2 H/F',\n",
       "       'TechLeader CyberSécurité', 'Chief Digital Officer (CDO)',\n",
       "       'Consultant Senior CyberSécurité',\n",
       "       'Stagiaire en développement Web - VueJS 3',\n",
       "       'Entry-Level Data Operator', 'Consultant Junior Cyber Sécurité',\n",
       "       'Expert en Développement et Maintenance',\n",
       "       'CyberSecurity Operations Administrator', 'Opérateur de Saisie',\n",
       "       'Développeur FULLSTACK', 'Consultant(e)Finance Comptabilité/GC',\n",
       "       'Technicien en Informatique', 'Incident Response Analyst',\n",
       "       'Administrateur(trice) Système & Cloud MS 365', 'Assistant IT',\n",
       "       'Technicienne en Informatique', 'RESPONSABLE INFORMATIQUE',\n",
       "       'ingénieur informatique industrielle', 'Chef de projet transverse',\n",
       "       'Développeur Full Stack JAVA', 'Help desk Italophone  H/F',\n",
       "       'Développeur full stack', 'Technical Lead .Net /Angular',\n",
       "       'Mechanical designer', \"Ingénieur d'affaires\",\n",
       "       'Technicien  en Maintenance informatique',\n",
       "       'Développeur .Net / Angular'], dtype=object)"
      ]
     },
     "execution_count": 48,
     "metadata": {},
     "output_type": "execute_result"
    }
   ],
   "source": [
    "data_target=data['Target'].unique()\n",
    "data_target"
   ]
  },
  {
   "cell_type": "code",
   "execution_count": 49,
   "metadata": {},
   "outputs": [
    {
     "data": {
      "text/plain": [
       "(60,)"
      ]
     },
     "execution_count": 49,
     "metadata": {},
     "output_type": "execute_result"
    }
   ],
   "source": [
    "data['Target'].shape"
   ]
  },
  {
   "cell_type": "code",
   "execution_count": 50,
   "metadata": {},
   "outputs": [
    {
     "data": {
      "text/plain": [
       "0                                   Développeur web\n",
       "1                                      WEB DESIGNER\n",
       "2                                Designer graphique\n",
       "3             Responsable Infra Systèmes et Réseaux\n",
       "4                        Développeur Medior .Net/C#\n",
       "5                                 Android Developer\n",
       "6     Développeur Medior Microsoft Dynamics 365 CRM\n",
       "7                  Développeur web (php/javascript)\n",
       "8                 Responsable Système d'Information\n",
       "9                                    Chef de projet\n",
       "10                                Master en finance\n",
       "11                                  Consultants SAP\n",
       "12                          Technicien informatique\n",
       "13                                        Webmaster\n",
       "14                          Stage Web Développement\n",
       "15      Service Desk Analyst H/F (langue Allemande)\n",
       "16      Service Desk Analyst H/F (langue Italienne)\n",
       "17           Service Desk Analyst / langue Espagnol\n",
       "18           TECHNICIEN SUPPORT LINUX N2 - 24/7 H/F\n",
       "19                          UI/Web Developer Senior\n",
       "20                         Service Desk analyst H/F\n",
       "21                               Senior QA Engineer\n",
       "22                     INGENIEURS SYSTEME ET RESEAU\n",
       "23             Graphic Designer / community manager\n",
       "24                                        Graphiste\n",
       "25                          technicien informatique\n",
       "26         Administrateur poste de Travail / L2 H/F\n",
       "27                         TechLeader CyberSécurité\n",
       "28                                        Graphiste\n",
       "29                      Chief Digital Officer (CDO)\n",
       "30                  Consultant Senior CyberSécurité\n",
       "31         Stagiaire en développement Web - VueJS 3\n",
       "32                        Entry-Level Data Operator\n",
       "33                 Consultant Junior Cyber Sécurité\n",
       "34           Expert en Développement et Maintenance\n",
       "35                         TechLeader CyberSécurité\n",
       "36                  Consultant Senior CyberSécurité\n",
       "37                      Chief Digital Officer (CDO)\n",
       "38           CyberSecurity Operations Administrator\n",
       "39                              Opérateur de Saisie\n",
       "40                            Développeur FULLSTACK\n",
       "41             Consultant(e)Finance Comptabilité/GC\n",
       "42                       Technicien en Informatique\n",
       "43                        Incident Response Analyst\n",
       "44     Administrateur(trice) Système & Cloud MS 365\n",
       "45                                     Assistant IT\n",
       "46                     Technicienne en Informatique\n",
       "47                         RESPONSABLE INFORMATIQUE\n",
       "48              ingénieur informatique industrielle\n",
       "49                        Chef de projet transverse\n",
       "50                      Développeur Full Stack JAVA\n",
       "51                        Help desk Italophone  H/F\n",
       "52                          UI/Web Developer Senior\n",
       "53                           Développeur full stack\n",
       "54                     Technical Lead .Net /Angular\n",
       "55                                Android Developer\n",
       "56                              Mechanical designer\n",
       "57                             Ingénieur d'affaires\n",
       "58          Technicien  en Maintenance informatique\n",
       "59                       Développeur .Net / Angular\n",
       "Name: Target, dtype: object"
      ]
     },
     "execution_count": 50,
     "metadata": {},
     "output_type": "execute_result"
    }
   ],
   "source": [
    "target = data['Target']\n",
    "target"
   ]
  },
  {
   "cell_type": "code",
   "execution_count": 51,
   "metadata": {},
   "outputs": [
    {
     "data": {
      "text/plain": [
       "Chief Digital Officer (CDO)                      2\n",
       "Consultant Senior CyberSécurité                  2\n",
       "TechLeader CyberSécurité                         2\n",
       "UI/Web Developer Senior                          2\n",
       "Android Developer                                2\n",
       "Graphiste                                        2\n",
       "Développeur Medior .Net/C#                       1\n",
       "Help desk Italophone  H/F                        1\n",
       "Service Desk analyst H/F                         1\n",
       "Technicienne en Informatique                     1\n",
       "ingénieur informatique industrielle              1\n",
       "Service Desk Analyst / langue Espagnol           1\n",
       "Master en finance                                1\n",
       "Développeur web (php/javascript)                 1\n",
       "Incident Response Analyst                        1\n",
       "Technicien  en Maintenance informatique          1\n",
       "Technicien informatique                          1\n",
       "WEB DESIGNER                                     1\n",
       "Développeur full stack                           1\n",
       "Webmaster                                        1\n",
       "Responsable Système d'Information                1\n",
       "Développeur Full Stack JAVA                      1\n",
       "Consultant Junior Cyber Sécurité                 1\n",
       "Administrateur(trice) Système & Cloud MS 365     1\n",
       "TECHNICIEN SUPPORT LINUX N2 - 24/7 H/F           1\n",
       "Mechanical designer                              1\n",
       "INGENIEURS SYSTEME ET RESEAU                     1\n",
       "Développeur .Net / Angular                       1\n",
       "Designer graphique                               1\n",
       "Opérateur de Saisie                              1\n",
       "Développeur FULLSTACK                            1\n",
       "Développeur Medior Microsoft Dynamics 365 CRM    1\n",
       "Stage Web Développement                          1\n",
       "Stagiaire en développement Web - VueJS 3         1\n",
       "Service Desk Analyst H/F (langue Italienne)      1\n",
       "Administrateur poste de Travail / L2 H/F         1\n",
       "Chef de projet transverse                        1\n",
       "Graphic Designer / community manager             1\n",
       "Consultants SAP                                  1\n",
       "Consultant(e)Finance Comptabilité/GC             1\n",
       "Entry-Level Data Operator                        1\n",
       "CyberSecurity Operations Administrator           1\n",
       "RESPONSABLE INFORMATIQUE                         1\n",
       "Service Desk Analyst H/F (langue Allemande)      1\n",
       "Expert en Développement et Maintenance           1\n",
       "Senior QA Engineer                               1\n",
       "technicien informatique                          1\n",
       "Ingénieur d'affaires                             1\n",
       "Assistant IT                                     1\n",
       "Technicien en Informatique                       1\n",
       "Chef de projet                                   1\n",
       "Technical Lead .Net /Angular                     1\n",
       "Développeur web                                  1\n",
       "Responsable Infra Systèmes et Réseaux            1\n",
       "Name: Target, dtype: int64"
      ]
     },
     "execution_count": 51,
     "metadata": {},
     "output_type": "execute_result"
    }
   ],
   "source": [
    "target_counts  = data['Target'].value_counts()\n",
    "target_counts"
   ]
  },
  {
   "cell_type": "code",
   "execution_count": 52,
   "metadata": {},
   "outputs": [
    {
     "data": {
      "text/plain": [
       "array([2, 2, 2, 2, 2, 2, 1, 1, 1, 1, 1, 1, 1, 1, 1, 1, 1, 1, 1, 1, 1, 1,\n",
       "       1, 1, 1, 1, 1, 1, 1, 1, 1, 1, 1, 1, 1, 1, 1, 1, 1, 1, 1, 1, 1, 1,\n",
       "       1, 1, 1, 1, 1, 1, 1, 1, 1, 1])"
      ]
     },
     "execution_count": 52,
     "metadata": {},
     "output_type": "execute_result"
    }
   ],
   "source": [
    "target_counts_value = data['Target'].value_counts().values\n",
    "target_counts_value\n",
    "\n"
   ]
  },
  {
   "cell_type": "code",
   "execution_count": 53,
   "metadata": {},
   "outputs": [
    {
     "data": {
      "text/plain": [
       "54"
      ]
     },
     "execution_count": 53,
     "metadata": {},
     "output_type": "execute_result"
    }
   ],
   "source": [
    "len(target_counts_value)\n",
    "\n"
   ]
  },
  {
   "cell_type": "code",
   "execution_count": 54,
   "metadata": {},
   "outputs": [
    {
     "data": {
      "text/plain": [
       "54"
      ]
     },
     "execution_count": 54,
     "metadata": {},
     "output_type": "execute_result"
    }
   ],
   "source": [
    "len(data_target)\n"
   ]
  },
  {
   "cell_type": "code",
   "execution_count": 55,
   "metadata": {},
   "outputs": [
    {
     "data": {
      "text/plain": [
       "array(['Développeur web', 'WEB DESIGNER', 'Designer graphique',\n",
       "       'Responsable Infra Systèmes et Réseaux',\n",
       "       'Développeur Medior .Net/C#', 'Android Developer',\n",
       "       'Développeur Medior Microsoft Dynamics 365 CRM',\n",
       "       'Développeur web (php/javascript)',\n",
       "       \"Responsable Système d'Information\", 'Chef de projet',\n",
       "       'Master en finance', 'Consultants SAP', 'Technicien informatique',\n",
       "       'Webmaster', 'Stage Web Développement',\n",
       "       'Service Desk Analyst H/F (langue Allemande)',\n",
       "       'Service Desk Analyst H/F (langue Italienne)',\n",
       "       'Service Desk Analyst / langue Espagnol',\n",
       "       'TECHNICIEN SUPPORT LINUX N2 - 24/7 H/F',\n",
       "       'UI/Web Developer Senior', 'Service Desk analyst H/F',\n",
       "       'Senior QA Engineer', 'INGENIEURS SYSTEME ET RESEAU',\n",
       "       'Graphic Designer / community manager', 'Graphiste',\n",
       "       'technicien informatique',\n",
       "       'Administrateur poste de Travail / L2 H/F',\n",
       "       'TechLeader CyberSécurité', 'Chief Digital Officer (CDO)',\n",
       "       'Consultant Senior CyberSécurité',\n",
       "       'Stagiaire en développement Web - VueJS 3',\n",
       "       'Entry-Level Data Operator', 'Consultant Junior Cyber Sécurité',\n",
       "       'Expert en Développement et Maintenance',\n",
       "       'CyberSecurity Operations Administrator', 'Opérateur de Saisie',\n",
       "       'Développeur FULLSTACK', 'Consultant(e)Finance Comptabilité/GC',\n",
       "       'Technicien en Informatique', 'Incident Response Analyst',\n",
       "       'Administrateur(trice) Système & Cloud MS 365', 'Assistant IT',\n",
       "       'Technicienne en Informatique', 'RESPONSABLE INFORMATIQUE',\n",
       "       'ingénieur informatique industrielle', 'Chef de projet transverse',\n",
       "       'Développeur Full Stack JAVA', 'Help desk Italophone  H/F',\n",
       "       'Développeur full stack', 'Technical Lead .Net /Angular',\n",
       "       'Mechanical designer', \"Ingénieur d'affaires\",\n",
       "       'Technicien  en Maintenance informatique',\n",
       "       'Développeur .Net / Angular'], dtype=object)"
      ]
     },
     "execution_count": 55,
     "metadata": {},
     "output_type": "execute_result"
    }
   ],
   "source": [
    "data_target "
   ]
  },
  {
   "cell_type": "code",
   "execution_count": 56,
   "metadata": {},
   "outputs": [
    {
     "data": {
      "text/plain": [
       "54"
      ]
     },
     "execution_count": 56,
     "metadata": {},
     "output_type": "execute_result"
    }
   ],
   "source": [
    "len(data_target)"
   ]
  },
  {
   "cell_type": "code",
   "execution_count": null,
   "metadata": {},
   "outputs": [],
   "source": [
    "# fig, axes = plt.subplots(1, 2, figsize=(111, 10))\n",
    "# # sns.barplot(target_counts.index, target_counts, ax=axes[0])\n",
    "# axes[1].pie(target_counts, labels=target_counts.keys(), autopct='%1.2f%%')\n",
    "# plt.show()"
   ]
  },
  {
   "cell_type": "code",
   "execution_count": 60,
   "metadata": {},
   "outputs": [
    {
     "data": {
      "text/plain": [
       "array(['Développeur web', 'WEB DESIGNER', 'Designer graphique',\n",
       "       'Responsable Infra Systèmes et Réseaux',\n",
       "       'Développeur Medior .Net/C#', 'Android Developer',\n",
       "       'Développeur Medior Microsoft Dynamics 365 CRM',\n",
       "       'Développeur web (php/javascript)',\n",
       "       \"Responsable Système d'Information\", 'Chef de projet',\n",
       "       'Master en finance', 'Consultants SAP', 'Technicien informatique',\n",
       "       'Webmaster', 'Stage Web Développement',\n",
       "       'Service Desk Analyst H/F (langue Allemande)',\n",
       "       'Service Desk Analyst H/F (langue Italienne)',\n",
       "       'Service Desk Analyst / langue Espagnol',\n",
       "       'TECHNICIEN SUPPORT LINUX N2 - 24/7 H/F',\n",
       "       'UI/Web Developer Senior'], dtype=object)"
      ]
     },
     "execution_count": 60,
     "metadata": {},
     "output_type": "execute_result"
    }
   ],
   "source": [
    "\n",
    "data_target = data_target[:20]\n",
    "len(data_target)\n",
    "data_target\n"
   ]
  },
  {
   "cell_type": "code",
   "execution_count": 63,
   "metadata": {},
   "outputs": [
    {
     "data": {
      "text/plain": [
       "array([2, 2, 2, 2, 2, 2, 1, 1, 1, 1, 1, 1, 1, 1, 1, 1, 1, 1, 1, 1])"
      ]
     },
     "execution_count": 63,
     "metadata": {},
     "output_type": "execute_result"
    }
   ],
   "source": [
    "target_counts_value = target_counts_value[:20]\n",
    "target_counts_value\n"
   ]
  },
  {
   "cell_type": "code",
   "execution_count": null,
   "metadata": {},
   "outputs": [],
   "source": [
    "# count_vectorizer = CountVectorizer(stop_words='english')\n",
    "# words, word_values = get_top_n_words(n_top_words=25,\n",
    "#                                      count_vectorizer=count_vectorizer,\n",
    "#                                      text_data=reindexed_data)\n",
    "\n",
    "# fig, ax = plt.subplots(figsize=(10,4))\n",
    "# ax.bar(range(len(data_target)), target_counts);\n",
    "# ax.set_xticks(range(len(words)));\n",
    "# ax.set_xticklabels(words, rotation='vertical');\n",
    "# ax.set_title('Top words in headlines dataset (excluding stop words)');\n",
    "# ax.set_xlabel('Word');\n",
    "# ax.set_ylabel('Number of occurences');\n",
    "# plt.show()"
   ]
  },
  {
   "cell_type": "code",
   "execution_count": 74,
   "metadata": {},
   "outputs": [
    {
     "data": {
      "image/png": "[encoded data removed]",
      "text/plain": [
       "<Figure size 1000x700 with 1 Axes>"
      ]
     },
     "metadata": {},
     "output_type": "display_data"
    }
   ],
   "source": [
    "\n",
    "\n",
    "\n",
    "fig, ax = plt.subplots(figsize=(10, 7))\n",
    "\n",
    "# Create a bar plot with the job titles on the x-axis and their counts on the y-axis\n",
    "ax.bar(range(len(target_counts_value)), target_counts_value)\n",
    "\n",
    "# Set x-axis ticks and labels\n",
    "ax.set_xticks(range(len(target_counts_value)))\n",
    "ax.set_xticklabels(data_target, rotation='vertical')\n",
    "\n",
    "# Set labels and title for the plot\n",
    "ax.set_xlabel('Job Titles')\n",
    "ax.set_ylabel('Number of Occurrences')\n",
    "ax.set_title('Top Job Titles')\n",
    "\n",
    "# Show the plot\n",
    "plt.tight_layout()\n",
    "\n",
    "plt.show()\n"
   ]
  },
  {
   "cell_type": "code",
   "execution_count": 84,
   "metadata": {},
   "outputs": [],
   "source": [
    "datasets= df.to_csv('jobs.csv', index=False,header=None)\n"
   ]
  },
  {
   "cell_type": "code",
   "execution_count": 85,
   "metadata": {},
   "outputs": [],
   "source": [
    "datasets"
   ]
  },
  {
   "cell_type": "code",
   "execution_count": 82,
   "metadata": {},
   "outputs": [
    {
     "ename": "AttributeError",
     "evalue": "'NoneType' object has no attribute 'text'",
     "output_type": "error",
     "traceback": [
      "\u001b[0;31m---------------------------------------------------------------------------\u001b[0m",
      "\u001b[0;31mAttributeError\u001b[0m                            Traceback (most recent call last)",
      "Cell \u001b[0;32mIn [82], line 2\u001b[0m\n\u001b[1;32m      1\u001b[0m vec \u001b[39m=\u001b[39m TfidfVectorizer(stop_words\u001b[39m=\u001b[39m\u001b[39m\"\u001b[39m\u001b[39mfrench\u001b[39m\u001b[39m\"\u001b[39m)\n\u001b[0;32m----> 2\u001b[0m vec\u001b[39m.\u001b[39mfit(datasets\u001b[39m.\u001b[39;49mtext\u001b[39m.\u001b[39mvalues)\n\u001b[1;32m      3\u001b[0m features \u001b[39m=\u001b[39m vec\u001b[39m.\u001b[39mtransform(datasets\u001b[39m.\u001b[39mdata\u001b[39m.\u001b[39mvalues)\n",
      "\u001b[0;31mAttributeError\u001b[0m: 'NoneType' object has no attribute 'text'"
     ]
    }
   ],
   "source": [
    "vec = TfidfVectorizer(stop_words=\"french\")\n",
    "vec.fit(datasets.text.values)\n",
    "features = vec.transform(datasets.data.values)"
   ]
  },
  {
   "cell_type": "code",
   "execution_count": null,
   "metadata": {},
   "outputs": [],
   "source": [
    "from sklearn.model_selection import train_test_split\n",
    "from sklearn.feature_extraction.text import TfidfVectorizer\n",
    "import scipy.sparse\n"
   ]
  },
  {
   "cell_type": "code",
   "execution_count": null,
   "metadata": {},
   "outputs": [],
   "source": [
    "X = df['Job_description']\n",
    "y = df['job_name']\n",
    "\n",
    "VecModel = TfidfVectorizer()\n",
    "X_Vec = VecModel.fit_transform(X)\n",
    "\n",
    "feature_names = VecModel.get_feature_names()\n",
    "feature_names\n"
   ]
  },
  {
   "cell_type": "code",
   "execution_count": null,
   "metadata": {},
   "outputs": [],
   "source": [
    "\n",
    "# c=pd.Series(X_Vec)\n",
    "# c.plot(kind='pie')"
   ]
  },
  {
   "cell_type": "code",
   "execution_count": null,
   "metadata": {},
   "outputs": [],
   "source": [
    "# X_Vec = pd.DataFrame(X_Vec)\n",
    "# X_Vec = pd.DataFrame.spars.from_spmatrix(X_Vec)\n",
    "\n",
    "X_Vec = pd.SparseDataFrame(X_Vec)\n",
    "print(f'The new shape for X is {X_Vec.shape}')\n",
    "X_Vec.head()\n"
   ]
  },
  {
   "cell_type": "code",
   "execution_count": null,
   "metadata": {},
   "outputs": [],
   "source": [
    "for i in range(5) : \n",
    "    print(sorted(list(X_Vec.iloc[i,:]),reverse = True))\n",
    "    print('--------------------------------------------------')"
   ]
  },
  {
   "cell_type": "code",
   "execution_count": null,
   "metadata": {},
   "outputs": [],
   "source": [
    "X_train, X_test, y_train, y_test = train_test_split(X_Vec, y, test_size=0.25, random_state=42)"
   ]
  },
  {
   "cell_type": "code",
   "execution_count": null,
   "metadata": {},
   "outputs": [],
   "source": []
  }
 ],
 "metadata": {
  "kernelspec": {
   "display_name": "base",
   "language": "python",
   "name": "python3"
  },
  "language_info": {
   "codemirror_mode": {
    "name": "ipython",
    "version": 3
   },
   "file_extension": ".py",
   "mimetype": "text/x-python",
   "name": "python",
   "nbconvert_exporter": "python",
   "pygments_lexer": "ipython3",
   "version": "3.8.8"
  },
  "vscode": {
   "interpreter": {
    "hash": "882807ebe06097f79e5f3ac50e8080c065797110a2a9abbb1dabbd30a83538b9"
   }
  }
 },
 "nbformat": 4,
 "nbformat_minor": 2
}
